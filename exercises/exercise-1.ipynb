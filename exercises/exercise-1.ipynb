{
  "cells": [
    {
      "metadata": {
        "trusted": true
      },
      "cell_type": "code",
      "source": "import pandas as pd\n\n# Path of the file to read\niowa_file_path = 'data/data_iowa_train.csv'\n\n# Fill in the line below to read the file into a variable home_data\nhome_data =  pd.read_csv(iowa_file_path)\n\nhome_data.describe",
      "execution_count": null,
      "outputs": []
    },
    {
      "metadata": {
        "trusted": true
      },
      "cell_type": "code",
      "source": "# What is the average lot size (rounded to nearest integer)?\navg_lot_size = round(home_data[\"LotArea\"].mean())\n\n# print it out\nprint(avg_lot_size)\n\nfrom datetime import datetime\n\n# As of today, how old is the newest home (current year - the date in which it was built)\nnewest_home_age = datetime.today().year - home_data[\"YearBuilt\"].max()\n\n# print it out\nprint(newest_home_age)",
      "execution_count": null,
      "outputs": []
    },
    {
      "metadata": {
        "trusted": true
      },
      "cell_type": "code",
      "source": "home_data.groupby('YearBuilt').mean().plot(y='OverallCond')\n",
      "execution_count": null,
      "outputs": []
    },
    {
      "metadata": {
        "trusted": true
      },
      "cell_type": "code",
      "source": "",
      "execution_count": null,
      "outputs": []
    }
  ],
  "metadata": {
    "kernelspec": {
      "name": "python36",
      "display_name": "Python 3.6",
      "language": "python"
    },
    "language_info": {
      "mimetype": "text/x-python",
      "nbconvert_exporter": "python",
      "name": "python",
      "pygments_lexer": "ipython3",
      "version": "3.6.6",
      "file_extension": ".py",
      "codemirror_mode": {
        "version": 3,
        "name": "ipython"
      }
    }
  },
  "nbformat": 4,
  "nbformat_minor": 2
}