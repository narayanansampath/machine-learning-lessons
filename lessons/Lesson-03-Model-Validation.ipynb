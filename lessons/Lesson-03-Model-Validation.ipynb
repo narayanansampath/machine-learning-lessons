{
  "cells": [
    {
      "metadata": {
        "trusted": true
      },
      "cell_type": "code",
      "source": "import pandas as pd\n\nmelbourne_file_path = 'data/melb_data.csv'\nmelbourne_data = pd.read_csv(melbourne_file_path) \n\n# dropna drops missing values (think of na as \"not available\")\nmelbourne_data = melbourne_data.dropna(axis=0)\n\n#prediction target\ny = melbourne_data.Price\n\n#selecting features - adding more features than in previous lesson\nmelbourne_features = ['Rooms', 'Bathroom', 'Landsize','Lattitude', 'Longtitude']\n\nX = melbourne_data[melbourne_features]\n\n#building model\nfrom sklearn.tree import DecisionTreeRegressor\n\n#Define model. specify  a number for random_state to ensure same results each run\nmelbourne_model = DecisionTreeRegressor(random_state = 1)\n\n#Fit model\nmelbourne_model.fit(X,y)",
      "execution_count": 5,
      "outputs": [
        {
          "output_type": "execute_result",
          "execution_count": 5,
          "data": {
            "text/plain": "DecisionTreeRegressor(criterion='mse', max_depth=None, max_features=None,\n           max_leaf_nodes=None, min_impurity_decrease=0.0,\n           min_impurity_split=None, min_samples_leaf=1,\n           min_samples_split=2, min_weight_fraction_leaf=0.0,\n           presort=False, random_state=1, splitter='best')"
          },
          "metadata": {}
        }
      ]
    },
    {
      "metadata": {
        "trusted": true
      },
      "cell_type": "code",
      "source": "from sklearn.metrics import mean_absolute_error\n\npredicted_home_prices = melbourne_model.predict(X)\n\nmean_absolute_error(y, predicted_home_prices)",
      "execution_count": 6,
      "outputs": [
        {
          "output_type": "execute_result",
          "execution_count": 6,
          "data": {
            "text/plain": "1115.7467183128902"
          },
          "metadata": {}
        }
      ]
    },
    {
      "metadata": {
        "trusted": true
      },
      "cell_type": "code",
      "source": "from sklearn.model_selection import train_test_split\n\ntrain_X, test_X, train_y, test_y = train_test_split(X, y, random_state = 1)\n\nmelbourne_model = DecisionTreeRegressor(random_state=1)\n\nmelbourne_model.fit(train_X, train_y)\n\npredictions = melbourne_model.predict(test_X)\n\nmean_absolute_error(test_y, predictions)",
      "execution_count": 7,
      "outputs": [
        {
          "output_type": "execute_result",
          "execution_count": 7,
          "data": {
            "text/plain": "251688.7630729503"
          },
          "metadata": {}
        }
      ]
    },
    {
      "metadata": {
        "trusted": true
      },
      "cell_type": "code",
      "source": "",
      "execution_count": null,
      "outputs": []
    }
  ],
  "metadata": {
    "kernelspec": {
      "name": "python36",
      "display_name": "Python 3.6",
      "language": "python"
    },
    "language_info": {
      "mimetype": "text/x-python",
      "nbconvert_exporter": "python",
      "name": "python",
      "pygments_lexer": "ipython3",
      "version": "3.6.6",
      "file_extension": ".py",
      "codemirror_mode": {
        "version": 3,
        "name": "ipython"
      }
    }
  },
  "nbformat": 4,
  "nbformat_minor": 2
}