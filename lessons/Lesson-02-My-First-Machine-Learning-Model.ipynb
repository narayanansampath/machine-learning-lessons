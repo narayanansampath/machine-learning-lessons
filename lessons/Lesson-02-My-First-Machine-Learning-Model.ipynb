{
  "cells": [
    {
      "metadata": {
        "trusted": true
      },
      "cell_type": "code",
      "source": "import pandas as pd\n\nmelbourne_file_path = 'data/melb_data.csv'\nmelbourne_data = pd.read_csv(melbourne_file_path)\n\nmelbourne_data.columns",
      "execution_count": 4,
      "outputs": [
        {
          "output_type": "execute_result",
          "execution_count": 4,
          "data": {
            "text/plain": "Index(['Suburb', 'Address', 'Rooms', 'Type', 'Price', 'Method', 'SellerG',\n       'Date', 'Distance', 'Postcode', 'Bedroom2', 'Bathroom', 'Car',\n       'Landsize', 'BuildingArea', 'YearBuilt', 'CouncilArea', 'Lattitude',\n       'Longtitude', 'Regionname', 'Propertycount'],\n      dtype='object')"
          },
          "metadata": {}
        }
      ]
    },
    {
      "metadata": {
        "trusted": true
      },
      "cell_type": "code",
      "source": "melbourne_data.describe()",
      "execution_count": 5,
      "outputs": [
        {
          "output_type": "execute_result",
          "execution_count": 5,
          "data": {
            "text/html": "<div>\n<style scoped>\n    .dataframe tbody tr th:only-of-type {\n        vertical-align: middle;\n    }\n\n    .dataframe tbody tr th {\n        vertical-align: top;\n    }\n\n    .dataframe thead th {\n        text-align: right;\n    }\n</style>\n<table border=\"1\" class=\"dataframe\">\n  <thead>\n    <tr style=\"text-align: right;\">\n      <th></th>\n      <th>Rooms</th>\n      <th>Price</th>\n      <th>Distance</th>\n      <th>Postcode</th>\n      <th>Bedroom2</th>\n      <th>Bathroom</th>\n      <th>Car</th>\n      <th>Landsize</th>\n      <th>BuildingArea</th>\n      <th>YearBuilt</th>\n      <th>Lattitude</th>\n      <th>Longtitude</th>\n      <th>Propertycount</th>\n    </tr>\n  </thead>\n  <tbody>\n    <tr>\n      <th>count</th>\n      <td>13580.000000</td>\n      <td>1.358000e+04</td>\n      <td>13580.000000</td>\n      <td>13580.000000</td>\n      <td>13580.000000</td>\n      <td>13580.000000</td>\n      <td>13518.000000</td>\n      <td>13580.000000</td>\n      <td>7130.000000</td>\n      <td>8205.000000</td>\n      <td>13580.000000</td>\n      <td>13580.000000</td>\n      <td>13580.000000</td>\n    </tr>\n    <tr>\n      <th>mean</th>\n      <td>2.937997</td>\n      <td>1.075684e+06</td>\n      <td>10.137776</td>\n      <td>3105.301915</td>\n      <td>2.914728</td>\n      <td>1.534242</td>\n      <td>1.610075</td>\n      <td>558.416127</td>\n      <td>151.967650</td>\n      <td>1964.684217</td>\n      <td>-37.809203</td>\n      <td>144.995216</td>\n      <td>7454.417378</td>\n    </tr>\n    <tr>\n      <th>std</th>\n      <td>0.955748</td>\n      <td>6.393107e+05</td>\n      <td>5.868725</td>\n      <td>90.676964</td>\n      <td>0.965921</td>\n      <td>0.691712</td>\n      <td>0.962634</td>\n      <td>3990.669241</td>\n      <td>541.014538</td>\n      <td>37.273762</td>\n      <td>0.079260</td>\n      <td>0.103916</td>\n      <td>4378.581772</td>\n    </tr>\n    <tr>\n      <th>min</th>\n      <td>1.000000</td>\n      <td>8.500000e+04</td>\n      <td>0.000000</td>\n      <td>3000.000000</td>\n      <td>0.000000</td>\n      <td>0.000000</td>\n      <td>0.000000</td>\n      <td>0.000000</td>\n      <td>0.000000</td>\n      <td>1196.000000</td>\n      <td>-38.182550</td>\n      <td>144.431810</td>\n      <td>249.000000</td>\n    </tr>\n    <tr>\n      <th>25%</th>\n      <td>2.000000</td>\n      <td>6.500000e+05</td>\n      <td>6.100000</td>\n      <td>3044.000000</td>\n      <td>2.000000</td>\n      <td>1.000000</td>\n      <td>1.000000</td>\n      <td>177.000000</td>\n      <td>93.000000</td>\n      <td>1940.000000</td>\n      <td>-37.856822</td>\n      <td>144.929600</td>\n      <td>4380.000000</td>\n    </tr>\n    <tr>\n      <th>50%</th>\n      <td>3.000000</td>\n      <td>9.030000e+05</td>\n      <td>9.200000</td>\n      <td>3084.000000</td>\n      <td>3.000000</td>\n      <td>1.000000</td>\n      <td>2.000000</td>\n      <td>440.000000</td>\n      <td>126.000000</td>\n      <td>1970.000000</td>\n      <td>-37.802355</td>\n      <td>145.000100</td>\n      <td>6555.000000</td>\n    </tr>\n    <tr>\n      <th>75%</th>\n      <td>3.000000</td>\n      <td>1.330000e+06</td>\n      <td>13.000000</td>\n      <td>3148.000000</td>\n      <td>3.000000</td>\n      <td>2.000000</td>\n      <td>2.000000</td>\n      <td>651.000000</td>\n      <td>174.000000</td>\n      <td>1999.000000</td>\n      <td>-37.756400</td>\n      <td>145.058305</td>\n      <td>10331.000000</td>\n    </tr>\n    <tr>\n      <th>max</th>\n      <td>10.000000</td>\n      <td>9.000000e+06</td>\n      <td>48.100000</td>\n      <td>3977.000000</td>\n      <td>20.000000</td>\n      <td>8.000000</td>\n      <td>10.000000</td>\n      <td>433014.000000</td>\n      <td>44515.000000</td>\n      <td>2018.000000</td>\n      <td>-37.408530</td>\n      <td>145.526350</td>\n      <td>21650.000000</td>\n    </tr>\n  </tbody>\n</table>\n</div>",
            "text/plain": "              Rooms         Price      Distance      Postcode      Bedroom2  \\\ncount  13580.000000  1.358000e+04  13580.000000  13580.000000  13580.000000   \nmean       2.937997  1.075684e+06     10.137776   3105.301915      2.914728   \nstd        0.955748  6.393107e+05      5.868725     90.676964      0.965921   \nmin        1.000000  8.500000e+04      0.000000   3000.000000      0.000000   \n25%        2.000000  6.500000e+05      6.100000   3044.000000      2.000000   \n50%        3.000000  9.030000e+05      9.200000   3084.000000      3.000000   \n75%        3.000000  1.330000e+06     13.000000   3148.000000      3.000000   \nmax       10.000000  9.000000e+06     48.100000   3977.000000     20.000000   \n\n           Bathroom           Car       Landsize  BuildingArea    YearBuilt  \\\ncount  13580.000000  13518.000000   13580.000000   7130.000000  8205.000000   \nmean       1.534242      1.610075     558.416127    151.967650  1964.684217   \nstd        0.691712      0.962634    3990.669241    541.014538    37.273762   \nmin        0.000000      0.000000       0.000000      0.000000  1196.000000   \n25%        1.000000      1.000000     177.000000     93.000000  1940.000000   \n50%        1.000000      2.000000     440.000000    126.000000  1970.000000   \n75%        2.000000      2.000000     651.000000    174.000000  1999.000000   \nmax        8.000000     10.000000  433014.000000  44515.000000  2018.000000   \n\n          Lattitude    Longtitude  Propertycount  \ncount  13580.000000  13580.000000   13580.000000  \nmean     -37.809203    144.995216    7454.417378  \nstd        0.079260      0.103916    4378.581772  \nmin      -38.182550    144.431810     249.000000  \n25%      -37.856822    144.929600    4380.000000  \n50%      -37.802355    145.000100    6555.000000  \n75%      -37.756400    145.058305   10331.000000  \nmax      -37.408530    145.526350   21650.000000  "
          },
          "metadata": {}
        }
      ]
    },
    {
      "metadata": {
        "trusted": true
      },
      "cell_type": "code",
      "source": "melbourne_data = melbourne_data.dropna(axis=0)",
      "execution_count": 6,
      "outputs": []
    },
    {
      "metadata": {
        "trusted": true
      },
      "cell_type": "code",
      "source": "melbourne_data.describe()",
      "execution_count": 7,
      "outputs": [
        {
          "output_type": "execute_result",
          "execution_count": 7,
          "data": {
            "text/html": "<div>\n<style scoped>\n    .dataframe tbody tr th:only-of-type {\n        vertical-align: middle;\n    }\n\n    .dataframe tbody tr th {\n        vertical-align: top;\n    }\n\n    .dataframe thead th {\n        text-align: right;\n    }\n</style>\n<table border=\"1\" class=\"dataframe\">\n  <thead>\n    <tr style=\"text-align: right;\">\n      <th></th>\n      <th>Rooms</th>\n      <th>Price</th>\n      <th>Distance</th>\n      <th>Postcode</th>\n      <th>Bedroom2</th>\n      <th>Bathroom</th>\n      <th>Car</th>\n      <th>Landsize</th>\n      <th>BuildingArea</th>\n      <th>YearBuilt</th>\n      <th>Lattitude</th>\n      <th>Longtitude</th>\n      <th>Propertycount</th>\n    </tr>\n  </thead>\n  <tbody>\n    <tr>\n      <th>count</th>\n      <td>6196.000000</td>\n      <td>6.196000e+03</td>\n      <td>6196.000000</td>\n      <td>6196.000000</td>\n      <td>6196.000000</td>\n      <td>6196.000000</td>\n      <td>6196.000000</td>\n      <td>6196.000000</td>\n      <td>6196.000000</td>\n      <td>6196.000000</td>\n      <td>6196.000000</td>\n      <td>6196.000000</td>\n      <td>6196.000000</td>\n    </tr>\n    <tr>\n      <th>mean</th>\n      <td>2.931407</td>\n      <td>1.068828e+06</td>\n      <td>9.751097</td>\n      <td>3101.947708</td>\n      <td>2.902034</td>\n      <td>1.576340</td>\n      <td>1.573596</td>\n      <td>471.006940</td>\n      <td>141.568645</td>\n      <td>1964.081988</td>\n      <td>-37.807904</td>\n      <td>144.990201</td>\n      <td>7435.489509</td>\n    </tr>\n    <tr>\n      <th>std</th>\n      <td>0.971079</td>\n      <td>6.751564e+05</td>\n      <td>5.612065</td>\n      <td>86.421604</td>\n      <td>0.970055</td>\n      <td>0.711362</td>\n      <td>0.929947</td>\n      <td>897.449881</td>\n      <td>90.834824</td>\n      <td>38.105673</td>\n      <td>0.075850</td>\n      <td>0.099165</td>\n      <td>4337.698917</td>\n    </tr>\n    <tr>\n      <th>min</th>\n      <td>1.000000</td>\n      <td>1.310000e+05</td>\n      <td>0.000000</td>\n      <td>3000.000000</td>\n      <td>0.000000</td>\n      <td>1.000000</td>\n      <td>0.000000</td>\n      <td>0.000000</td>\n      <td>0.000000</td>\n      <td>1196.000000</td>\n      <td>-38.164920</td>\n      <td>144.542370</td>\n      <td>389.000000</td>\n    </tr>\n    <tr>\n      <th>25%</th>\n      <td>2.000000</td>\n      <td>6.200000e+05</td>\n      <td>5.900000</td>\n      <td>3044.000000</td>\n      <td>2.000000</td>\n      <td>1.000000</td>\n      <td>1.000000</td>\n      <td>152.000000</td>\n      <td>91.000000</td>\n      <td>1940.000000</td>\n      <td>-37.855438</td>\n      <td>144.926198</td>\n      <td>4383.750000</td>\n    </tr>\n    <tr>\n      <th>50%</th>\n      <td>3.000000</td>\n      <td>8.800000e+05</td>\n      <td>9.000000</td>\n      <td>3081.000000</td>\n      <td>3.000000</td>\n      <td>1.000000</td>\n      <td>1.000000</td>\n      <td>373.000000</td>\n      <td>124.000000</td>\n      <td>1970.000000</td>\n      <td>-37.802250</td>\n      <td>144.995800</td>\n      <td>6567.000000</td>\n    </tr>\n    <tr>\n      <th>75%</th>\n      <td>4.000000</td>\n      <td>1.325000e+06</td>\n      <td>12.400000</td>\n      <td>3147.000000</td>\n      <td>3.000000</td>\n      <td>2.000000</td>\n      <td>2.000000</td>\n      <td>628.000000</td>\n      <td>170.000000</td>\n      <td>2000.000000</td>\n      <td>-37.758200</td>\n      <td>145.052700</td>\n      <td>10175.000000</td>\n    </tr>\n    <tr>\n      <th>max</th>\n      <td>8.000000</td>\n      <td>9.000000e+06</td>\n      <td>47.400000</td>\n      <td>3977.000000</td>\n      <td>9.000000</td>\n      <td>8.000000</td>\n      <td>10.000000</td>\n      <td>37000.000000</td>\n      <td>3112.000000</td>\n      <td>2018.000000</td>\n      <td>-37.457090</td>\n      <td>145.526350</td>\n      <td>21650.000000</td>\n    </tr>\n  </tbody>\n</table>\n</div>",
            "text/plain": "             Rooms         Price     Distance     Postcode     Bedroom2  \\\ncount  6196.000000  6.196000e+03  6196.000000  6196.000000  6196.000000   \nmean      2.931407  1.068828e+06     9.751097  3101.947708     2.902034   \nstd       0.971079  6.751564e+05     5.612065    86.421604     0.970055   \nmin       1.000000  1.310000e+05     0.000000  3000.000000     0.000000   \n25%       2.000000  6.200000e+05     5.900000  3044.000000     2.000000   \n50%       3.000000  8.800000e+05     9.000000  3081.000000     3.000000   \n75%       4.000000  1.325000e+06    12.400000  3147.000000     3.000000   \nmax       8.000000  9.000000e+06    47.400000  3977.000000     9.000000   \n\n          Bathroom          Car      Landsize  BuildingArea    YearBuilt  \\\ncount  6196.000000  6196.000000   6196.000000   6196.000000  6196.000000   \nmean      1.576340     1.573596    471.006940    141.568645  1964.081988   \nstd       0.711362     0.929947    897.449881     90.834824    38.105673   \nmin       1.000000     0.000000      0.000000      0.000000  1196.000000   \n25%       1.000000     1.000000    152.000000     91.000000  1940.000000   \n50%       1.000000     1.000000    373.000000    124.000000  1970.000000   \n75%       2.000000     2.000000    628.000000    170.000000  2000.000000   \nmax       8.000000    10.000000  37000.000000   3112.000000  2018.000000   \n\n         Lattitude   Longtitude  Propertycount  \ncount  6196.000000  6196.000000    6196.000000  \nmean    -37.807904   144.990201    7435.489509  \nstd       0.075850     0.099165    4337.698917  \nmin     -38.164920   144.542370     389.000000  \n25%     -37.855438   144.926198    4383.750000  \n50%     -37.802250   144.995800    6567.000000  \n75%     -37.758200   145.052700   10175.000000  \nmax     -37.457090   145.526350   21650.000000  "
          },
          "metadata": {}
        }
      ]
    },
    {
      "metadata": {
        "trusted": true
      },
      "cell_type": "code",
      "source": "y = melbourne_data.Price",
      "execution_count": 8,
      "outputs": []
    },
    {
      "metadata": {
        "trusted": true
      },
      "cell_type": "code",
      "source": "melbourne_features = ['Rooms', 'Bathroom', 'Landsize', 'Lattitude', 'Longtitude']\n\nX = melbourne_data[melbourne_features]\n\nX.head()\n\n",
      "execution_count": 10,
      "outputs": [
        {
          "output_type": "execute_result",
          "execution_count": 10,
          "data": {
            "text/html": "<div>\n<style scoped>\n    .dataframe tbody tr th:only-of-type {\n        vertical-align: middle;\n    }\n\n    .dataframe tbody tr th {\n        vertical-align: top;\n    }\n\n    .dataframe thead th {\n        text-align: right;\n    }\n</style>\n<table border=\"1\" class=\"dataframe\">\n  <thead>\n    <tr style=\"text-align: right;\">\n      <th></th>\n      <th>Rooms</th>\n      <th>Bathroom</th>\n      <th>Landsize</th>\n      <th>Lattitude</th>\n      <th>Longtitude</th>\n    </tr>\n  </thead>\n  <tbody>\n    <tr>\n      <th>1</th>\n      <td>2</td>\n      <td>1.0</td>\n      <td>156.0</td>\n      <td>-37.8079</td>\n      <td>144.9934</td>\n    </tr>\n    <tr>\n      <th>2</th>\n      <td>3</td>\n      <td>2.0</td>\n      <td>134.0</td>\n      <td>-37.8093</td>\n      <td>144.9944</td>\n    </tr>\n    <tr>\n      <th>4</th>\n      <td>4</td>\n      <td>1.0</td>\n      <td>120.0</td>\n      <td>-37.8072</td>\n      <td>144.9941</td>\n    </tr>\n    <tr>\n      <th>6</th>\n      <td>3</td>\n      <td>2.0</td>\n      <td>245.0</td>\n      <td>-37.8024</td>\n      <td>144.9993</td>\n    </tr>\n    <tr>\n      <th>7</th>\n      <td>2</td>\n      <td>1.0</td>\n      <td>256.0</td>\n      <td>-37.8060</td>\n      <td>144.9954</td>\n    </tr>\n  </tbody>\n</table>\n</div>",
            "text/plain": "   Rooms  Bathroom  Landsize  Lattitude  Longtitude\n1      2       1.0     156.0   -37.8079    144.9934\n2      3       2.0     134.0   -37.8093    144.9944\n4      4       1.0     120.0   -37.8072    144.9941\n6      3       2.0     245.0   -37.8024    144.9993\n7      2       1.0     256.0   -37.8060    144.9954"
          },
          "metadata": {}
        }
      ]
    },
    {
      "metadata": {
        "trusted": true
      },
      "cell_type": "code",
      "source": "X.describe()\n",
      "execution_count": 11,
      "outputs": [
        {
          "output_type": "execute_result",
          "execution_count": 11,
          "data": {
            "text/html": "<div>\n<style scoped>\n    .dataframe tbody tr th:only-of-type {\n        vertical-align: middle;\n    }\n\n    .dataframe tbody tr th {\n        vertical-align: top;\n    }\n\n    .dataframe thead th {\n        text-align: right;\n    }\n</style>\n<table border=\"1\" class=\"dataframe\">\n  <thead>\n    <tr style=\"text-align: right;\">\n      <th></th>\n      <th>Rooms</th>\n      <th>Bathroom</th>\n      <th>Landsize</th>\n      <th>Lattitude</th>\n      <th>Longtitude</th>\n    </tr>\n  </thead>\n  <tbody>\n    <tr>\n      <th>count</th>\n      <td>6196.000000</td>\n      <td>6196.000000</td>\n      <td>6196.000000</td>\n      <td>6196.000000</td>\n      <td>6196.000000</td>\n    </tr>\n    <tr>\n      <th>mean</th>\n      <td>2.931407</td>\n      <td>1.576340</td>\n      <td>471.006940</td>\n      <td>-37.807904</td>\n      <td>144.990201</td>\n    </tr>\n    <tr>\n      <th>std</th>\n      <td>0.971079</td>\n      <td>0.711362</td>\n      <td>897.449881</td>\n      <td>0.075850</td>\n      <td>0.099165</td>\n    </tr>\n    <tr>\n      <th>min</th>\n      <td>1.000000</td>\n      <td>1.000000</td>\n      <td>0.000000</td>\n      <td>-38.164920</td>\n      <td>144.542370</td>\n    </tr>\n    <tr>\n      <th>25%</th>\n      <td>2.000000</td>\n      <td>1.000000</td>\n      <td>152.000000</td>\n      <td>-37.855438</td>\n      <td>144.926198</td>\n    </tr>\n    <tr>\n      <th>50%</th>\n      <td>3.000000</td>\n      <td>1.000000</td>\n      <td>373.000000</td>\n      <td>-37.802250</td>\n      <td>144.995800</td>\n    </tr>\n    <tr>\n      <th>75%</th>\n      <td>4.000000</td>\n      <td>2.000000</td>\n      <td>628.000000</td>\n      <td>-37.758200</td>\n      <td>145.052700</td>\n    </tr>\n    <tr>\n      <th>max</th>\n      <td>8.000000</td>\n      <td>8.000000</td>\n      <td>37000.000000</td>\n      <td>-37.457090</td>\n      <td>145.526350</td>\n    </tr>\n  </tbody>\n</table>\n</div>",
            "text/plain": "             Rooms     Bathroom      Landsize    Lattitude   Longtitude\ncount  6196.000000  6196.000000   6196.000000  6196.000000  6196.000000\nmean      2.931407     1.576340    471.006940   -37.807904   144.990201\nstd       0.971079     0.711362    897.449881     0.075850     0.099165\nmin       1.000000     1.000000      0.000000   -38.164920   144.542370\n25%       2.000000     1.000000    152.000000   -37.855438   144.926198\n50%       3.000000     1.000000    373.000000   -37.802250   144.995800\n75%       4.000000     2.000000    628.000000   -37.758200   145.052700\nmax       8.000000     8.000000  37000.000000   -37.457090   145.526350"
          },
          "metadata": {}
        }
      ]
    },
    {
      "metadata": {
        "trusted": true
      },
      "cell_type": "code",
      "source": "from sklearn.tree import DecisionTreeRegressor\n\n# Define model. Specify a number for random_state to ensure same results each run\nmelbourne_model = DecisionTreeRegressor(random_state=1)\n\n# Fit model\nmelbourne_model.fit(X, y)",
      "execution_count": 13,
      "outputs": [
        {
          "output_type": "execute_result",
          "execution_count": 13,
          "data": {
            "text/plain": "DecisionTreeRegressor(criterion='mse', max_depth=None, max_features=None,\n           max_leaf_nodes=None, min_impurity_decrease=0.0,\n           min_impurity_split=None, min_samples_leaf=1,\n           min_samples_split=2, min_weight_fraction_leaf=0.0,\n           presort=False, random_state=1, splitter='best')"
          },
          "metadata": {}
        }
      ]
    },
    {
      "metadata": {
        "trusted": true
      },
      "cell_type": "code",
      "source": "print(\"Making predictions for the following 5 houses:\")\nX.head()",
      "execution_count": 14,
      "outputs": [
        {
          "output_type": "stream",
          "text": "Making predictions for the following 5 houses:\n",
          "name": "stdout"
        },
        {
          "output_type": "execute_result",
          "execution_count": 14,
          "data": {
            "text/html": "<div>\n<style scoped>\n    .dataframe tbody tr th:only-of-type {\n        vertical-align: middle;\n    }\n\n    .dataframe tbody tr th {\n        vertical-align: top;\n    }\n\n    .dataframe thead th {\n        text-align: right;\n    }\n</style>\n<table border=\"1\" class=\"dataframe\">\n  <thead>\n    <tr style=\"text-align: right;\">\n      <th></th>\n      <th>Rooms</th>\n      <th>Bathroom</th>\n      <th>Landsize</th>\n      <th>Lattitude</th>\n      <th>Longtitude</th>\n    </tr>\n  </thead>\n  <tbody>\n    <tr>\n      <th>1</th>\n      <td>2</td>\n      <td>1.0</td>\n      <td>156.0</td>\n      <td>-37.8079</td>\n      <td>144.9934</td>\n    </tr>\n    <tr>\n      <th>2</th>\n      <td>3</td>\n      <td>2.0</td>\n      <td>134.0</td>\n      <td>-37.8093</td>\n      <td>144.9944</td>\n    </tr>\n    <tr>\n      <th>4</th>\n      <td>4</td>\n      <td>1.0</td>\n      <td>120.0</td>\n      <td>-37.8072</td>\n      <td>144.9941</td>\n    </tr>\n    <tr>\n      <th>6</th>\n      <td>3</td>\n      <td>2.0</td>\n      <td>245.0</td>\n      <td>-37.8024</td>\n      <td>144.9993</td>\n    </tr>\n    <tr>\n      <th>7</th>\n      <td>2</td>\n      <td>1.0</td>\n      <td>256.0</td>\n      <td>-37.8060</td>\n      <td>144.9954</td>\n    </tr>\n  </tbody>\n</table>\n</div>",
            "text/plain": "   Rooms  Bathroom  Landsize  Lattitude  Longtitude\n1      2       1.0     156.0   -37.8079    144.9934\n2      3       2.0     134.0   -37.8093    144.9944\n4      4       1.0     120.0   -37.8072    144.9941\n6      3       2.0     245.0   -37.8024    144.9993\n7      2       1.0     256.0   -37.8060    144.9954"
          },
          "metadata": {}
        }
      ]
    },
    {
      "metadata": {
        "trusted": true
      },
      "cell_type": "code",
      "source": "print(\"The predictions are\")\nmelbourne_model.predict(X.head())",
      "execution_count": 15,
      "outputs": [
        {
          "output_type": "stream",
          "text": "The predictions are\n",
          "name": "stdout"
        },
        {
          "output_type": "execute_result",
          "execution_count": 15,
          "data": {
            "text/plain": "array([1035000., 1465000., 1600000., 1876000., 1636000.])"
          },
          "metadata": {}
        }
      ]
    },
    {
      "metadata": {
        "trusted": true
      },
      "cell_type": "code",
      "source": "melbourne_data.head()",
      "execution_count": 16,
      "outputs": [
        {
          "output_type": "execute_result",
          "execution_count": 16,
          "data": {
            "text/html": "<div>\n<style scoped>\n    .dataframe tbody tr th:only-of-type {\n        vertical-align: middle;\n    }\n\n    .dataframe tbody tr th {\n        vertical-align: top;\n    }\n\n    .dataframe thead th {\n        text-align: right;\n    }\n</style>\n<table border=\"1\" class=\"dataframe\">\n  <thead>\n    <tr style=\"text-align: right;\">\n      <th></th>\n      <th>Suburb</th>\n      <th>Address</th>\n      <th>Rooms</th>\n      <th>Type</th>\n      <th>Price</th>\n      <th>Method</th>\n      <th>SellerG</th>\n      <th>Date</th>\n      <th>Distance</th>\n      <th>Postcode</th>\n      <th>...</th>\n      <th>Bathroom</th>\n      <th>Car</th>\n      <th>Landsize</th>\n      <th>BuildingArea</th>\n      <th>YearBuilt</th>\n      <th>CouncilArea</th>\n      <th>Lattitude</th>\n      <th>Longtitude</th>\n      <th>Regionname</th>\n      <th>Propertycount</th>\n    </tr>\n  </thead>\n  <tbody>\n    <tr>\n      <th>1</th>\n      <td>Abbotsford</td>\n      <td>25 Bloomburg St</td>\n      <td>2</td>\n      <td>h</td>\n      <td>1035000.0</td>\n      <td>S</td>\n      <td>Biggin</td>\n      <td>4/02/2016</td>\n      <td>2.5</td>\n      <td>3067.0</td>\n      <td>...</td>\n      <td>1.0</td>\n      <td>0.0</td>\n      <td>156.0</td>\n      <td>79.0</td>\n      <td>1900.0</td>\n      <td>Yarra</td>\n      <td>-37.8079</td>\n      <td>144.9934</td>\n      <td>Northern Metropolitan</td>\n      <td>4019.0</td>\n    </tr>\n    <tr>\n      <th>2</th>\n      <td>Abbotsford</td>\n      <td>5 Charles St</td>\n      <td>3</td>\n      <td>h</td>\n      <td>1465000.0</td>\n      <td>SP</td>\n      <td>Biggin</td>\n      <td>4/03/2017</td>\n      <td>2.5</td>\n      <td>3067.0</td>\n      <td>...</td>\n      <td>2.0</td>\n      <td>0.0</td>\n      <td>134.0</td>\n      <td>150.0</td>\n      <td>1900.0</td>\n      <td>Yarra</td>\n      <td>-37.8093</td>\n      <td>144.9944</td>\n      <td>Northern Metropolitan</td>\n      <td>4019.0</td>\n    </tr>\n    <tr>\n      <th>4</th>\n      <td>Abbotsford</td>\n      <td>55a Park St</td>\n      <td>4</td>\n      <td>h</td>\n      <td>1600000.0</td>\n      <td>VB</td>\n      <td>Nelson</td>\n      <td>4/06/2016</td>\n      <td>2.5</td>\n      <td>3067.0</td>\n      <td>...</td>\n      <td>1.0</td>\n      <td>2.0</td>\n      <td>120.0</td>\n      <td>142.0</td>\n      <td>2014.0</td>\n      <td>Yarra</td>\n      <td>-37.8072</td>\n      <td>144.9941</td>\n      <td>Northern Metropolitan</td>\n      <td>4019.0</td>\n    </tr>\n    <tr>\n      <th>6</th>\n      <td>Abbotsford</td>\n      <td>124 Yarra St</td>\n      <td>3</td>\n      <td>h</td>\n      <td>1876000.0</td>\n      <td>S</td>\n      <td>Nelson</td>\n      <td>7/05/2016</td>\n      <td>2.5</td>\n      <td>3067.0</td>\n      <td>...</td>\n      <td>2.0</td>\n      <td>0.0</td>\n      <td>245.0</td>\n      <td>210.0</td>\n      <td>1910.0</td>\n      <td>Yarra</td>\n      <td>-37.8024</td>\n      <td>144.9993</td>\n      <td>Northern Metropolitan</td>\n      <td>4019.0</td>\n    </tr>\n    <tr>\n      <th>7</th>\n      <td>Abbotsford</td>\n      <td>98 Charles St</td>\n      <td>2</td>\n      <td>h</td>\n      <td>1636000.0</td>\n      <td>S</td>\n      <td>Nelson</td>\n      <td>8/10/2016</td>\n      <td>2.5</td>\n      <td>3067.0</td>\n      <td>...</td>\n      <td>1.0</td>\n      <td>2.0</td>\n      <td>256.0</td>\n      <td>107.0</td>\n      <td>1890.0</td>\n      <td>Yarra</td>\n      <td>-37.8060</td>\n      <td>144.9954</td>\n      <td>Northern Metropolitan</td>\n      <td>4019.0</td>\n    </tr>\n  </tbody>\n</table>\n<p>5 rows × 21 columns</p>\n</div>",
            "text/plain": "       Suburb          Address  Rooms Type      Price Method SellerG  \\\n1  Abbotsford  25 Bloomburg St      2    h  1035000.0      S  Biggin   \n2  Abbotsford     5 Charles St      3    h  1465000.0     SP  Biggin   \n4  Abbotsford      55a Park St      4    h  1600000.0     VB  Nelson   \n6  Abbotsford     124 Yarra St      3    h  1876000.0      S  Nelson   \n7  Abbotsford    98 Charles St      2    h  1636000.0      S  Nelson   \n\n        Date  Distance  Postcode      ...       Bathroom  Car  Landsize  \\\n1  4/02/2016       2.5    3067.0      ...            1.0  0.0     156.0   \n2  4/03/2017       2.5    3067.0      ...            2.0  0.0     134.0   \n4  4/06/2016       2.5    3067.0      ...            1.0  2.0     120.0   \n6  7/05/2016       2.5    3067.0      ...            2.0  0.0     245.0   \n7  8/10/2016       2.5    3067.0      ...            1.0  2.0     256.0   \n\n   BuildingArea  YearBuilt  CouncilArea Lattitude  Longtitude  \\\n1          79.0     1900.0        Yarra  -37.8079    144.9934   \n2         150.0     1900.0        Yarra  -37.8093    144.9944   \n4         142.0     2014.0        Yarra  -37.8072    144.9941   \n6         210.0     1910.0        Yarra  -37.8024    144.9993   \n7         107.0     1890.0        Yarra  -37.8060    144.9954   \n\n              Regionname Propertycount  \n1  Northern Metropolitan        4019.0  \n2  Northern Metropolitan        4019.0  \n4  Northern Metropolitan        4019.0  \n6  Northern Metropolitan        4019.0  \n7  Northern Metropolitan        4019.0  \n\n[5 rows x 21 columns]"
          },
          "metadata": {}
        }
      ]
    },
    {
      "metadata": {
        "trusted": true
      },
      "cell_type": "code",
      "source": "",
      "execution_count": null,
      "outputs": []
    }
  ],
  "metadata": {
    "kernelspec": {
      "name": "python36",
      "display_name": "Python 3.6",
      "language": "python"
    },
    "language_info": {
      "mimetype": "text/x-python",
      "nbconvert_exporter": "python",
      "name": "python",
      "pygments_lexer": "ipython3",
      "version": "3.6.6",
      "file_extension": ".py",
      "codemirror_mode": {
        "version": 3,
        "name": "ipython"
      }
    }
  },
  "nbformat": 4,
  "nbformat_minor": 2
}